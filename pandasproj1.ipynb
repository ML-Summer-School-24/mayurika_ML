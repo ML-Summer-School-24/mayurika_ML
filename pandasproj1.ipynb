{
 "cells": [
  {
   "cell_type": "markdown",
   "id": "35686a2b-e751-41ca-b4df-2c9dbf09479d",
   "metadata": {},
   "source": [
    "#### creating the dataframe"
   ]
  },
  {
   "cell_type": "code",
   "execution_count": 3,
   "id": "2ae8b8dc-46d1-4dd4-a44a-b6af56c9d122",
   "metadata": {},
   "outputs": [],
   "source": [
    "import pandas as pd\n",
    "\n",
    "data = [[1,'alisha','female',43,47,41],[2,'anne','female',44,47,49],[3,'bunny','male',39,44,41],[4,'clara','female',33,48,49],[5,'durjoy','male',43,47,41],[6,'firoz','male',43,47,48],[7,'harmanpreet','female',43,49,41],[8,'jack','male',40,47,41],[9,'keith','male',50,50,49],[10,'manish','male',43,37,41]]\n",
    "df = pd.DataFrame(data, columns=['roll no.','name','gender','marks1','marks2','marks3']) "
   ]
  },
  {
   "cell_type": "code",
   "execution_count": 4,
   "id": "f2d7eb6d-451d-4145-a08b-c68bd45c5759",
   "metadata": {},
   "outputs": [
    {
     "data": {
      "text/html": [
       "<div>\n",
       "<style scoped>\n",
       "    .dataframe tbody tr th:only-of-type {\n",
       "        vertical-align: middle;\n",
       "    }\n",
       "\n",
       "    .dataframe tbody tr th {\n",
       "        vertical-align: top;\n",
       "    }\n",
       "\n",
       "    .dataframe thead th {\n",
       "        text-align: right;\n",
       "    }\n",
       "</style>\n",
       "<table border=\"1\" class=\"dataframe\">\n",
       "  <thead>\n",
       "    <tr style=\"text-align: right;\">\n",
       "      <th></th>\n",
       "      <th>roll no.</th>\n",
       "      <th>name</th>\n",
       "      <th>gender</th>\n",
       "      <th>marks1</th>\n",
       "      <th>marks2</th>\n",
       "      <th>marks3</th>\n",
       "    </tr>\n",
       "  </thead>\n",
       "  <tbody>\n",
       "    <tr>\n",
       "      <th>0</th>\n",
       "      <td>1</td>\n",
       "      <td>alisha</td>\n",
       "      <td>female</td>\n",
       "      <td>43</td>\n",
       "      <td>47</td>\n",
       "      <td>41</td>\n",
       "    </tr>\n",
       "    <tr>\n",
       "      <th>1</th>\n",
       "      <td>2</td>\n",
       "      <td>anne</td>\n",
       "      <td>female</td>\n",
       "      <td>44</td>\n",
       "      <td>47</td>\n",
       "      <td>49</td>\n",
       "    </tr>\n",
       "    <tr>\n",
       "      <th>2</th>\n",
       "      <td>3</td>\n",
       "      <td>bunny</td>\n",
       "      <td>male</td>\n",
       "      <td>39</td>\n",
       "      <td>44</td>\n",
       "      <td>41</td>\n",
       "    </tr>\n",
       "    <tr>\n",
       "      <th>3</th>\n",
       "      <td>4</td>\n",
       "      <td>clara</td>\n",
       "      <td>female</td>\n",
       "      <td>33</td>\n",
       "      <td>48</td>\n",
       "      <td>49</td>\n",
       "    </tr>\n",
       "    <tr>\n",
       "      <th>4</th>\n",
       "      <td>5</td>\n",
       "      <td>durjoy</td>\n",
       "      <td>male</td>\n",
       "      <td>43</td>\n",
       "      <td>47</td>\n",
       "      <td>41</td>\n",
       "    </tr>\n",
       "    <tr>\n",
       "      <th>5</th>\n",
       "      <td>6</td>\n",
       "      <td>firoz</td>\n",
       "      <td>male</td>\n",
       "      <td>43</td>\n",
       "      <td>47</td>\n",
       "      <td>48</td>\n",
       "    </tr>\n",
       "    <tr>\n",
       "      <th>6</th>\n",
       "      <td>7</td>\n",
       "      <td>harmanpreet</td>\n",
       "      <td>female</td>\n",
       "      <td>43</td>\n",
       "      <td>49</td>\n",
       "      <td>41</td>\n",
       "    </tr>\n",
       "    <tr>\n",
       "      <th>7</th>\n",
       "      <td>8</td>\n",
       "      <td>jack</td>\n",
       "      <td>male</td>\n",
       "      <td>40</td>\n",
       "      <td>47</td>\n",
       "      <td>41</td>\n",
       "    </tr>\n",
       "    <tr>\n",
       "      <th>8</th>\n",
       "      <td>9</td>\n",
       "      <td>keith</td>\n",
       "      <td>male</td>\n",
       "      <td>50</td>\n",
       "      <td>50</td>\n",
       "      <td>49</td>\n",
       "    </tr>\n",
       "    <tr>\n",
       "      <th>9</th>\n",
       "      <td>10</td>\n",
       "      <td>manish</td>\n",
       "      <td>male</td>\n",
       "      <td>43</td>\n",
       "      <td>37</td>\n",
       "      <td>41</td>\n",
       "    </tr>\n",
       "  </tbody>\n",
       "</table>\n",
       "</div>"
      ],
      "text/plain": [
       "   roll no.         name  gender  marks1  marks2  marks3\n",
       "0         1       alisha  female      43      47      41\n",
       "1         2         anne  female      44      47      49\n",
       "2         3        bunny    male      39      44      41\n",
       "3         4        clara  female      33      48      49\n",
       "4         5       durjoy    male      43      47      41\n",
       "5         6        firoz    male      43      47      48\n",
       "6         7  harmanpreet  female      43      49      41\n",
       "7         8         jack    male      40      47      41\n",
       "8         9        keith    male      50      50      49\n",
       "9        10       manish    male      43      37      41"
      ]
     },
     "execution_count": 4,
     "metadata": {},
     "output_type": "execute_result"
    }
   ],
   "source": [
    "df"
   ]
  },
  {
   "cell_type": "markdown",
   "id": "e3fddb24-fa21-4fdf-9443-72f733cfa2b0",
   "metadata": {},
   "source": [
    "#### 1. creating a new column with total marks"
   ]
  },
  {
   "cell_type": "code",
   "execution_count": 5,
   "id": "87bc1a30-6c46-4703-a796-3b3a276a273d",
   "metadata": {},
   "outputs": [],
   "source": [
    "df['total']=df['marks1']+df['marks2']+df['marks3']"
   ]
  },
  {
   "cell_type": "code",
   "execution_count": 6,
   "id": "80614302-cd0b-4811-9559-598cf29cf240",
   "metadata": {},
   "outputs": [
    {
     "data": {
      "text/html": [
       "<div>\n",
       "<style scoped>\n",
       "    .dataframe tbody tr th:only-of-type {\n",
       "        vertical-align: middle;\n",
       "    }\n",
       "\n",
       "    .dataframe tbody tr th {\n",
       "        vertical-align: top;\n",
       "    }\n",
       "\n",
       "    .dataframe thead th {\n",
       "        text-align: right;\n",
       "    }\n",
       "</style>\n",
       "<table border=\"1\" class=\"dataframe\">\n",
       "  <thead>\n",
       "    <tr style=\"text-align: right;\">\n",
       "      <th></th>\n",
       "      <th>roll no.</th>\n",
       "      <th>name</th>\n",
       "      <th>gender</th>\n",
       "      <th>marks1</th>\n",
       "      <th>marks2</th>\n",
       "      <th>marks3</th>\n",
       "      <th>total</th>\n",
       "    </tr>\n",
       "  </thead>\n",
       "  <tbody>\n",
       "    <tr>\n",
       "      <th>0</th>\n",
       "      <td>1</td>\n",
       "      <td>alisha</td>\n",
       "      <td>female</td>\n",
       "      <td>43</td>\n",
       "      <td>47</td>\n",
       "      <td>41</td>\n",
       "      <td>131</td>\n",
       "    </tr>\n",
       "    <tr>\n",
       "      <th>1</th>\n",
       "      <td>2</td>\n",
       "      <td>anne</td>\n",
       "      <td>female</td>\n",
       "      <td>44</td>\n",
       "      <td>47</td>\n",
       "      <td>49</td>\n",
       "      <td>140</td>\n",
       "    </tr>\n",
       "    <tr>\n",
       "      <th>2</th>\n",
       "      <td>3</td>\n",
       "      <td>bunny</td>\n",
       "      <td>male</td>\n",
       "      <td>39</td>\n",
       "      <td>44</td>\n",
       "      <td>41</td>\n",
       "      <td>124</td>\n",
       "    </tr>\n",
       "    <tr>\n",
       "      <th>3</th>\n",
       "      <td>4</td>\n",
       "      <td>clara</td>\n",
       "      <td>female</td>\n",
       "      <td>33</td>\n",
       "      <td>48</td>\n",
       "      <td>49</td>\n",
       "      <td>130</td>\n",
       "    </tr>\n",
       "    <tr>\n",
       "      <th>4</th>\n",
       "      <td>5</td>\n",
       "      <td>durjoy</td>\n",
       "      <td>male</td>\n",
       "      <td>43</td>\n",
       "      <td>47</td>\n",
       "      <td>41</td>\n",
       "      <td>131</td>\n",
       "    </tr>\n",
       "    <tr>\n",
       "      <th>5</th>\n",
       "      <td>6</td>\n",
       "      <td>firoz</td>\n",
       "      <td>male</td>\n",
       "      <td>43</td>\n",
       "      <td>47</td>\n",
       "      <td>48</td>\n",
       "      <td>138</td>\n",
       "    </tr>\n",
       "    <tr>\n",
       "      <th>6</th>\n",
       "      <td>7</td>\n",
       "      <td>harmanpreet</td>\n",
       "      <td>female</td>\n",
       "      <td>43</td>\n",
       "      <td>49</td>\n",
       "      <td>41</td>\n",
       "      <td>133</td>\n",
       "    </tr>\n",
       "    <tr>\n",
       "      <th>7</th>\n",
       "      <td>8</td>\n",
       "      <td>jack</td>\n",
       "      <td>male</td>\n",
       "      <td>40</td>\n",
       "      <td>47</td>\n",
       "      <td>41</td>\n",
       "      <td>128</td>\n",
       "    </tr>\n",
       "    <tr>\n",
       "      <th>8</th>\n",
       "      <td>9</td>\n",
       "      <td>keith</td>\n",
       "      <td>male</td>\n",
       "      <td>50</td>\n",
       "      <td>50</td>\n",
       "      <td>49</td>\n",
       "      <td>149</td>\n",
       "    </tr>\n",
       "    <tr>\n",
       "      <th>9</th>\n",
       "      <td>10</td>\n",
       "      <td>manish</td>\n",
       "      <td>male</td>\n",
       "      <td>43</td>\n",
       "      <td>37</td>\n",
       "      <td>41</td>\n",
       "      <td>121</td>\n",
       "    </tr>\n",
       "  </tbody>\n",
       "</table>\n",
       "</div>"
      ],
      "text/plain": [
       "   roll no.         name  gender  marks1  marks2  marks3  total\n",
       "0         1       alisha  female      43      47      41    131\n",
       "1         2         anne  female      44      47      49    140\n",
       "2         3        bunny    male      39      44      41    124\n",
       "3         4        clara  female      33      48      49    130\n",
       "4         5       durjoy    male      43      47      41    131\n",
       "5         6        firoz    male      43      47      48    138\n",
       "6         7  harmanpreet  female      43      49      41    133\n",
       "7         8         jack    male      40      47      41    128\n",
       "8         9        keith    male      50      50      49    149\n",
       "9        10       manish    male      43      37      41    121"
      ]
     },
     "execution_count": 6,
     "metadata": {},
     "output_type": "execute_result"
    }
   ],
   "source": [
    "df\n"
   ]
  },
  {
   "cell_type": "markdown",
   "id": "bacc2055-006a-4ba3-9f61-a3725bca3bca",
   "metadata": {},
   "source": [
    "#### finding lowest marks in marks1"
   ]
  },
  {
   "cell_type": "code",
   "execution_count": 7,
   "id": "4300d91d-3b59-40e8-8eb1-faae9b1a07a4",
   "metadata": {},
   "outputs": [
    {
     "data": {
      "text/plain": [
       "33"
      ]
     },
     "execution_count": 7,
     "metadata": {},
     "output_type": "execute_result"
    }
   ],
   "source": [
    "df['marks1'].min()"
   ]
  },
  {
   "cell_type": "markdown",
   "id": "18453594-fe82-48ed-86c4-343730fe009e",
   "metadata": {},
   "source": [
    "#### finding highest marks in marks2"
   ]
  },
  {
   "cell_type": "code",
   "execution_count": 8,
   "id": "880fbf8e-a975-4138-b943-cfd452760e86",
   "metadata": {},
   "outputs": [
    {
     "data": {
      "text/plain": [
       "50"
      ]
     },
     "execution_count": 8,
     "metadata": {},
     "output_type": "execute_result"
    }
   ],
   "source": [
    "df['marks2'].max()"
   ]
  },
  {
   "cell_type": "markdown",
   "id": "9f52a64a-4816-402c-816b-b0127ff8081f",
   "metadata": {},
   "source": [
    "#### finding average marks in marks3"
   ]
  },
  {
   "cell_type": "code",
   "execution_count": 11,
   "id": "bb6d61e4-bbd0-43f6-a08b-5421c7700af3",
   "metadata": {},
   "outputs": [
    {
     "data": {
      "text/plain": [
       "44.1"
      ]
     },
     "execution_count": 11,
     "metadata": {},
     "output_type": "execute_result"
    }
   ],
   "source": [
    "df['marks3'].mean()"
   ]
  },
  {
   "cell_type": "markdown",
   "id": "cc15004c-a474-4186-8347-302ca7a93d34",
   "metadata": {},
   "source": [
    "#### finding student name with highest average"
   ]
  },
  {
   "cell_type": "code",
   "execution_count": 23,
   "id": "0c351948-2849-42b3-b7c4-62c79b3bfc24",
   "metadata": {},
   "outputs": [],
   "source": [
    "avg = df.groupby('name')['total'].mean()"
   ]
  },
  {
   "cell_type": "code",
   "execution_count": 24,
   "id": "656619a8-5e1b-44dc-a0e2-3f162913b17b",
   "metadata": {},
   "outputs": [
    {
     "data": {
      "text/html": [
       "<div>\n",
       "<style scoped>\n",
       "    .dataframe tbody tr th:only-of-type {\n",
       "        vertical-align: middle;\n",
       "    }\n",
       "\n",
       "    .dataframe tbody tr th {\n",
       "        vertical-align: top;\n",
       "    }\n",
       "\n",
       "    .dataframe thead th {\n",
       "        text-align: right;\n",
       "    }\n",
       "</style>\n",
       "<table border=\"1\" class=\"dataframe\">\n",
       "  <thead>\n",
       "    <tr style=\"text-align: right;\">\n",
       "      <th></th>\n",
       "      <th>roll no.</th>\n",
       "      <th>name</th>\n",
       "      <th>gender</th>\n",
       "      <th>marks1</th>\n",
       "      <th>marks2</th>\n",
       "      <th>marks3</th>\n",
       "      <th>total</th>\n",
       "      <th>averagemarks</th>\n",
       "    </tr>\n",
       "  </thead>\n",
       "  <tbody>\n",
       "    <tr>\n",
       "      <th>0</th>\n",
       "      <td>1</td>\n",
       "      <td>alisha</td>\n",
       "      <td>female</td>\n",
       "      <td>43</td>\n",
       "      <td>47</td>\n",
       "      <td>41</td>\n",
       "      <td>131</td>\n",
       "      <td>43.666667</td>\n",
       "    </tr>\n",
       "    <tr>\n",
       "      <th>1</th>\n",
       "      <td>2</td>\n",
       "      <td>anne</td>\n",
       "      <td>female</td>\n",
       "      <td>44</td>\n",
       "      <td>47</td>\n",
       "      <td>49</td>\n",
       "      <td>140</td>\n",
       "      <td>46.666667</td>\n",
       "    </tr>\n",
       "    <tr>\n",
       "      <th>2</th>\n",
       "      <td>3</td>\n",
       "      <td>bunny</td>\n",
       "      <td>male</td>\n",
       "      <td>39</td>\n",
       "      <td>44</td>\n",
       "      <td>41</td>\n",
       "      <td>124</td>\n",
       "      <td>41.333333</td>\n",
       "    </tr>\n",
       "    <tr>\n",
       "      <th>3</th>\n",
       "      <td>4</td>\n",
       "      <td>clara</td>\n",
       "      <td>female</td>\n",
       "      <td>33</td>\n",
       "      <td>48</td>\n",
       "      <td>49</td>\n",
       "      <td>130</td>\n",
       "      <td>43.333333</td>\n",
       "    </tr>\n",
       "    <tr>\n",
       "      <th>4</th>\n",
       "      <td>5</td>\n",
       "      <td>durjoy</td>\n",
       "      <td>male</td>\n",
       "      <td>43</td>\n",
       "      <td>47</td>\n",
       "      <td>41</td>\n",
       "      <td>131</td>\n",
       "      <td>43.666667</td>\n",
       "    </tr>\n",
       "    <tr>\n",
       "      <th>5</th>\n",
       "      <td>6</td>\n",
       "      <td>firoz</td>\n",
       "      <td>male</td>\n",
       "      <td>43</td>\n",
       "      <td>47</td>\n",
       "      <td>48</td>\n",
       "      <td>138</td>\n",
       "      <td>46.000000</td>\n",
       "    </tr>\n",
       "    <tr>\n",
       "      <th>6</th>\n",
       "      <td>7</td>\n",
       "      <td>harmanpreet</td>\n",
       "      <td>female</td>\n",
       "      <td>43</td>\n",
       "      <td>49</td>\n",
       "      <td>41</td>\n",
       "      <td>133</td>\n",
       "      <td>44.333333</td>\n",
       "    </tr>\n",
       "    <tr>\n",
       "      <th>7</th>\n",
       "      <td>8</td>\n",
       "      <td>jack</td>\n",
       "      <td>male</td>\n",
       "      <td>40</td>\n",
       "      <td>47</td>\n",
       "      <td>41</td>\n",
       "      <td>128</td>\n",
       "      <td>42.666667</td>\n",
       "    </tr>\n",
       "    <tr>\n",
       "      <th>8</th>\n",
       "      <td>9</td>\n",
       "      <td>keith</td>\n",
       "      <td>male</td>\n",
       "      <td>50</td>\n",
       "      <td>50</td>\n",
       "      <td>49</td>\n",
       "      <td>149</td>\n",
       "      <td>49.666667</td>\n",
       "    </tr>\n",
       "    <tr>\n",
       "      <th>9</th>\n",
       "      <td>10</td>\n",
       "      <td>manish</td>\n",
       "      <td>male</td>\n",
       "      <td>43</td>\n",
       "      <td>37</td>\n",
       "      <td>41</td>\n",
       "      <td>121</td>\n",
       "      <td>40.333333</td>\n",
       "    </tr>\n",
       "  </tbody>\n",
       "</table>\n",
       "</div>"
      ],
      "text/plain": [
       "   roll no.         name  gender  marks1  marks2  marks3  total  averagemarks\n",
       "0         1       alisha  female      43      47      41    131     43.666667\n",
       "1         2         anne  female      44      47      49    140     46.666667\n",
       "2         3        bunny    male      39      44      41    124     41.333333\n",
       "3         4        clara  female      33      48      49    130     43.333333\n",
       "4         5       durjoy    male      43      47      41    131     43.666667\n",
       "5         6        firoz    male      43      47      48    138     46.000000\n",
       "6         7  harmanpreet  female      43      49      41    133     44.333333\n",
       "7         8         jack    male      40      47      41    128     42.666667\n",
       "8         9        keith    male      50      50      49    149     49.666667\n",
       "9        10       manish    male      43      37      41    121     40.333333"
      ]
     },
     "execution_count": 24,
     "metadata": {},
     "output_type": "execute_result"
    }
   ],
   "source": [
    "df"
   ]
  },
  {
   "cell_type": "code",
   "execution_count": 26,
   "id": "db3813af-e28f-4067-bb67-cada03016ff8",
   "metadata": {},
   "outputs": [],
   "source": [
    "topper=avg.idxmax()"
   ]
  },
  {
   "cell_type": "code",
   "execution_count": 27,
   "id": "23ec506d-13e2-49fd-8ab8-f8926daa7d18",
   "metadata": {},
   "outputs": [
    {
     "data": {
      "text/plain": [
       "'keith'"
      ]
     },
     "execution_count": 27,
     "metadata": {},
     "output_type": "execute_result"
    }
   ],
   "source": [
    "topper"
   ]
  },
  {
   "cell_type": "markdown",
   "id": "ef0e354c-84b5-489c-9978-1679c5122fe6",
   "metadata": {},
   "source": [
    "#### how many students failed in marks2 ie <40"
   ]
  },
  {
   "cell_type": "code",
   "execution_count": 28,
   "id": "00e5e2d4-2d5d-4add-a99b-df09a60e3732",
   "metadata": {},
   "outputs": [],
   "source": [
    "failed = df[df['marks2'] < 40]\n",
    "numofstudents=failed['name'].nunique()\n"
   ]
  },
  {
   "cell_type": "code",
   "execution_count": 29,
   "id": "1a0f64ab-53eb-4654-ab47-7a733117cb62",
   "metadata": {},
   "outputs": [
    {
     "data": {
      "text/plain": [
       "1"
      ]
     },
     "execution_count": 29,
     "metadata": {},
     "output_type": "execute_result"
    }
   ],
   "source": [
    "numofstudents"
   ]
  },
  {
   "cell_type": "markdown",
   "id": "5c4a2001-693b-4fa6-b69b-6325d051fb7b",
   "metadata": {},
   "source": [
    "####  creating a table with the 5-number summary of all the numeric attributes\r\n"
   ]
  },
  {
   "cell_type": "code",
   "execution_count": 32,
   "id": "19600011-3647-4bde-a48c-5532bc7b1461",
   "metadata": {},
   "outputs": [
    {
     "name": "stdout",
     "output_type": "stream",
     "text": [
      "\n",
      "5-Number Summary:\n",
      "        roll no.     marks1     marks2     marks3       total\n",
      "count  10.00000  10.000000  10.000000  10.000000   10.000000\n",
      "mean    5.50000  42.100000  46.300000  44.100000  132.500000\n",
      "std     3.02765   4.306326   3.622461   4.012481    8.127457\n",
      "min     1.00000  33.000000  37.000000  41.000000  121.000000\n",
      "25%     3.25000  40.750000  47.000000  41.000000  128.500000\n",
      "50%     5.50000  43.000000  47.000000  41.000000  131.000000\n",
      "75%     7.75000  43.000000  47.750000  48.750000  136.750000\n",
      "max    10.00000  50.000000  50.000000  49.000000  149.000000\n"
     ]
    }
   ],
   "source": [
    "five_number_summary = df.describe()\n",
    "print(\"\\n5-Number Summary:\\n\", five_number_summary)"
   ]
  }
 ],
 "metadata": {
  "kernelspec": {
   "display_name": "Python 3 (ipykernel)",
   "language": "python",
   "name": "python3"
  },
  "language_info": {
   "codemirror_mode": {
    "name": "ipython",
    "version": 3
   },
   "file_extension": ".py",
   "mimetype": "text/x-python",
   "name": "python",
   "nbconvert_exporter": "python",
   "pygments_lexer": "ipython3",
   "version": "3.11.7"
  }
 },
 "nbformat": 4,
 "nbformat_minor": 5
}
